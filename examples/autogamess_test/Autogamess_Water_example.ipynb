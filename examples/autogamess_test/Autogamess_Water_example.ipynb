{
 "cells": [
  {
   "cell_type": "markdown",
   "metadata": {},
   "source": [
    "# Import `autogamess` and set up input"
   ]
  },
  {
   "cell_type": "code",
   "execution_count": 1,
   "metadata": {},
   "outputs": [],
   "source": [
    "import autogamess as ag\n",
    "maindir = './'\n",
    "csvfile = './input.csv'\n",
    "title   = 'Water\\n'\n",
    "savedir = './'\n",
    "ag.input_builder(csvfile, savedir, proj_title=title)"
   ]
  },
  {
   "cell_type": "markdown",
   "metadata": {},
   "source": [
    "# Run the created input using GAMESS(US)"
   ]
  },
  {
   "cell_type": "code",
   "execution_count": 2,
   "metadata": {},
   "outputs": [],
   "source": [
    "%%bash\n",
    "rungms AGv1-0-35_H2O_B3LYP_CCD_opt.inp &> AGv1-0-35_H2O_B3LYP_CCD_opt.log"
   ]
  },
  {
   "cell_type": "code",
   "execution_count": 3,
   "metadata": {},
   "outputs": [],
   "source": [
    "%%bash\n",
    "cp ~/.gamess/AGv1-0-35_H2O_B3LYP_CCD_opt.dat ."
   ]
  },
  {
   "cell_type": "markdown",
   "metadata": {},
   "source": [
    "# Create the Hessian input and run"
   ]
  },
  {
   "cell_type": "code",
   "execution_count": 4,
   "metadata": {},
   "outputs": [],
   "source": [
    "ag.opt2hes('AGv1-0-35_H2O_B3LYP_CCD_opt.inp','AGv1-0-35_H2O_B3LYP_CCD_opt.log')"
   ]
  },
  {
   "cell_type": "code",
   "execution_count": 5,
   "metadata": {},
   "outputs": [],
   "source": [
    "%%bash\n",
    "rungms AGv1-0-35_H2O_B3LYP_CCD_hes.inp &> AGv1-0-35_H2O_B3LYP_CCD_hes.log"
   ]
  },
  {
   "cell_type": "code",
   "execution_count": 6,
   "metadata": {},
   "outputs": [],
   "source": [
    "%%bash\n",
    "cp ~/.gamess/AGv1-0-35_H2O_B3LYP_CCD_hes.dat ."
   ]
  },
  {
   "cell_type": "markdown",
   "metadata": {},
   "source": [
    "# Create the Raman input and run"
   ]
  },
  {
   "cell_type": "code",
   "execution_count": 7,
   "metadata": {},
   "outputs": [],
   "source": [
    "ag.hes2raman('AGv1-0-35_H2O_B3LYP_CCD_hes.inp','AGv1-0-35_H2O_B3LYP_CCD_hes.dat')"
   ]
  },
  {
   "cell_type": "code",
   "execution_count": 8,
   "metadata": {},
   "outputs": [],
   "source": [
    "%%bash\n",
    "rungms AGv1-0-35_H2O_B3LYP_CCD_raman.inp &> AGv1-0-35_H2O_B3LYP_CCD_raman.log"
   ]
  },
  {
   "cell_type": "code",
   "execution_count": 9,
   "metadata": {},
   "outputs": [],
   "source": [
    "%%bash\n",
    "cp ~/.gamess/AGv1-0-35_H2O_B3LYP_CCD_raman.dat ."
   ]
  },
  {
   "cell_type": "markdown",
   "metadata": {},
   "source": [
    "# Create the project directory framework"
   ]
  },
  {
   "cell_type": "code",
   "execution_count": 10,
   "metadata": {},
   "outputs": [],
   "source": [
    "title   = 'Water/'\n",
    "ag.new_project(maindir, csvfile, title=title)\n",
    "projdir = maindir + title\n",
    "logsdir = './'"
   ]
  },
  {
   "cell_type": "markdown",
   "metadata": {},
   "source": [
    "# Sort the log files into their respective directories"
   ]
  },
  {
   "cell_type": "code",
   "execution_count": 11,
   "metadata": {},
   "outputs": [],
   "source": [
    "ag.sort_logs(projdir, logsdir)"
   ]
  },
  {
   "cell_type": "markdown",
   "metadata": {},
   "source": [
    "# Fill the spreadsheets with the parsed data"
   ]
  },
  {
   "cell_type": "code",
   "execution_count": 12,
   "metadata": {},
   "outputs": [
    {
     "name": "stdout",
     "output_type": "stream",
     "text": [
      "  Theory Basis Set\n",
      "0  B3LYP       CCD\n",
      "1     \\n        \\n\n",
      "2     \\n        \\n\n",
      "3     \\n        \\n\n"
     ]
    }
   ],
   "source": [
    "ag.fill_spreadsheets(projdir)"
   ]
  },
  {
   "cell_type": "code",
   "execution_count": 13,
   "metadata": {},
   "outputs": [],
   "source": [
    "data = ag.get_data(\"Water/Logs/Pass/Optimization/H2O/AGv1-0-35_H2O_B3LYP_CCD_opt.log\")"
   ]
  },
  {
   "cell_type": "code",
   "execution_count": 14,
   "metadata": {},
   "outputs": [
    {
     "data": {
      "text/plain": [
       "{'H-O-2H Bond Angle': '1.7928203036195753',\n",
       " '2H-O-H Bond Angle': '1.7928203036195753',\n",
       " 'O-H-2H Bond Angle': '0.674386174985109',\n",
       " '2H-H-O Bond Angle': '0.674386174985109',\n",
       " 'O-2H-H Bond Angle': '0.674386174985109',\n",
       " 'H-2H-O Bond Angle': '0.674386174985109'}"
      ]
     },
     "execution_count": 14,
     "metadata": {},
     "output_type": "execute_result"
    }
   ],
   "source": [
    "data.bond_angles"
   ]
  },
  {
   "cell_type": "code",
   "execution_count": 15,
   "metadata": {},
   "outputs": [
    {
     "data": {
      "text/plain": [
       "{'O-H Bond Length': '0.9689095459293237',\n",
       " 'O-2H Bond Length': '0.9689095459293237',\n",
       " 'H-O Bond Length': '0.9689095459293237',\n",
       " 'H-2H Bond Length': '1.513611854',\n",
       " '2H-O Bond Length': '0.9689095459293237',\n",
       " '2H-H Bond Length': '1.513611854'}"
      ]
     },
     "execution_count": 15,
     "metadata": {},
     "output_type": "execute_result"
    }
   ],
   "source": [
    "data.bond_lengths"
   ]
  },
  {
   "cell_type": "code",
   "execution_count": 16,
   "metadata": {},
   "outputs": [],
   "source": [
    "data = ag.get_data(\"Water/Logs/Pass/Hessian/H2O/AGv1-0-35_H2O_B3LYP_CCD_hes.log\")"
   ]
  },
  {
   "cell_type": "code",
   "execution_count": 17,
   "metadata": {},
   "outputs": [
    {
     "data": {
      "text/plain": [
       "{'A1': ['1658.02', '3748.43'], 'B2': ['3849.93']}"
      ]
     },
     "execution_count": 17,
     "metadata": {},
     "output_type": "execute_result"
    }
   ],
   "source": [
    "data.vib_freq"
   ]
  },
  {
   "cell_type": "code",
   "execution_count": 18,
   "metadata": {},
   "outputs": [
    {
     "data": {
      "text/plain": [
       "{'A1': ['1.31682', '0.06709'], 'B2': ['0.46628']}"
      ]
     },
     "execution_count": 18,
     "metadata": {},
     "output_type": "execute_result"
    }
   ],
   "source": [
    "data.ir_inten"
   ]
  },
  {
   "cell_type": "code",
   "execution_count": 19,
   "metadata": {},
   "outputs": [],
   "source": [
    "data = ag.get_data(\"Water/Logs/Pass/Raman/H2O/AGv1-0-35_H2O_B3LYP_CCD_raman.log\")"
   ]
  },
  {
   "cell_type": "code",
   "execution_count": 20,
   "metadata": {},
   "outputs": [
    {
     "data": {
      "text/plain": [
       "{'A1': ['6.104', '75.736'], 'B2': ['33.331']}"
      ]
     },
     "execution_count": 20,
     "metadata": {},
     "output_type": "execute_result"
    }
   ],
   "source": [
    "data.raman"
   ]
  }
 ],
 "metadata": {
  "kernelspec": {
   "display_name": "Python 3",
   "language": "python",
   "name": "python3"
  },
  "language_info": {
   "codemirror_mode": {
    "name": "ipython",
    "version": 3
   },
   "file_extension": ".py",
   "mimetype": "text/x-python",
   "name": "python",
   "nbconvert_exporter": "python",
   "pygments_lexer": "ipython3",
   "version": "3.7.3"
  }
 },
 "nbformat": 4,
 "nbformat_minor": 4
}
